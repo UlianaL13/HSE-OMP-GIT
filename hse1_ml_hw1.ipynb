{
  "nbformat": 4,
  "nbformat_minor": 0,
  "metadata": {
    "colab": {
      "provenance": [],
      "include_colab_link": true
    },
    "kernelspec": {
      "name": "python3",
      "display_name": "Python 3"
    },
    "language_info": {
      "name": "python"
    }
  },
  "cells": [
    {
      "cell_type": "markdown",
      "metadata": {
        "id": "view-in-github",
        "colab_type": "text"
      },
      "source": [
        "<a href=\"https://colab.research.google.com/github/UlianaL13/HSE-OMP-GIT/blob/main/hse1_ml_hw1.ipynb\" target=\"_parent\"><img src=\"https://colab.research.google.com/assets/colab-badge.svg\" alt=\"Open In Colab\"/></a>"
      ]
    },
    {
      "cell_type": "markdown",
      "source": [
        "## Это будет ваше первое домашнее задание по машинному обучению\n",
        "Вам дан датасет в следующем формате:\n",
        "\n",
        "1 - premise - некоторый вводный текст\n",
        "\n",
        "2 - hypothesis - некоторая гипотеза на основе вводного текста\n",
        "\n",
        "3 - label - верна ли гипотеза на основе вводного текста или нет - это ваш таргет, его вы и должны будете предсказывать любыми удобными вам способами\n",
        "\n",
        "\n",
        "Метрика: f1_score (можно взять из sklearn.metrics)\n",
        "\n",
        "Вы можете читать документацию, гуглить, смотретить гайды, читать форумы и разборы подобных задач - всё что хотите. Запрещено только пользоваться различными gpt для полного решения (спросить что то или улучшить с их помощью - можно)\n",
        "\n",
        "Оценка зависит от двух факторов:\n",
        "\n",
        "1) Общее качество работы (код, логичность и тд)\n",
        "\n",
        "2) Метрика\n",
        "\n",
        "## Ограничения:\n",
        "\n",
        "- для обучения вы можете использовать ТОЛЬКО представленные данные (файл train.csv)\n",
        "\n",
        "- вы должны предсказать таргет для test.csv и сами посчитать метрику в отдельной ячейке, которая должна быть последней в ноутбуке. (это важно!)\n",
        "\n",
        "- можно и нужно генерировать новые фичи\n",
        "\n",
        "- запрещается использовать нейронные сети (но можно использовать любые \"классические\" алгоритмы машинного обучения)\n",
        "\n",
        "- общее время работы всех ячеек ноутбука (если нажать \"запустить весь код\") не должно превышать 1 час.\n",
        "\n",
        "- все добавленные/отсеянные фичи в финальное решение должны быть обоснованы\n",
        "\n",
        "- в случае использования не готовой модели (а например рукописной) она должна быть написана в формате scikit-api (то есть иметь функции fit, predict, а также нормальный init)\n",
        "\n",
        "- можно проводить сколько угодно каких угодно экспериментов, они должны быть кратко описаны в первой текстовой ячейке (после этой сразу), чтобы была понятна ваша логика, однако в финальном ноутбуке самих экспериментов быть не должно\n",
        "\n",
        "## Примерный вид итоговой версии ноутбука:\n",
        "\n",
        "1) Прочитать, проанализировать данные, посмотреть статистики, подумать (опционально)\n",
        "\n",
        "2) Генерация/отсев фичей\n",
        "\n",
        "3) Инициализация и обучение модели\n",
        "\n",
        "4) Обработка тестового датасета (под вид тренировочного)\n",
        "\n",
        "5) Предсказание и оценка результата\n",
        "\n",
        "## Критерии оценки:\n",
        "\n",
        "f1_score > 0.60 - работа получит от 0 до 3\n",
        "\n",
        "f1_score > 0.65 - работа получит от 0 до 6\n",
        "\n",
        "f1_score > 0.68 - работа получит от 0 до 8\n",
        "\n",
        "f1_score > 0.70 - работ аполучит от 0 до 10\n",
        "\n",
        "## ВАЖНО!\n",
        "\n",
        "В случае подозрений на списывание (коллективную работу / слишком активное использование gpt), в течение недели после дедлайна некоторые люди получат \"письма счастья\", на которые они должны будут ответить (либо признаться в своей вине - тогда санкции будут гораздо слабее, либо защищаться - тогда необходимо будет аргументировать те или иные подозрительные моменты в работе)\n",
        "\n",
        "\n"
      ],
      "metadata": {
        "id": "C9U8A2mxjLIU"
      }
    },
    {
      "cell_type": "markdown",
      "source": [
        "# тут описываете свои эксперименты"
      ],
      "metadata": {
        "id": "IS14Qw48oO2C"
      }
    },
    {
      "cell_type": "code",
      "source": [
        "!wget --no-check-certificate -r 'https://drive.google.com/uc?export=download&id=1sv3d8jROfVmMvzKmDHTSPy5PVjjyhzRa' -O train.csv\n",
        "!wget --no-check-certificate -r 'https://drive.google.com/uc?export=download&id=19Ab0gw7ZdTJEKEffGFh3zp7opjNNOFYs' -O test.csv"
      ],
      "metadata": {
        "colab": {
          "base_uri": "https://localhost:8080/"
        },
        "id": "6AI-Ck7lg6YY",
        "outputId": "4a6611a4-52e2-4c0c-9b1e-f0635ecc272a"
      },
      "execution_count": null,
      "outputs": [
        {
          "output_type": "stream",
          "name": "stdout",
          "text": [
            "WARNING: combining -O with -r or -p will mean that all downloaded content\n",
            "will be placed in the single file you specified.\n",
            "\n",
            "--2025-02-26 18:42:25--  https://drive.google.com/uc?export=download&id=1sv3d8jROfVmMvzKmDHTSPy5PVjjyhzRa\n",
            "Resolving drive.google.com (drive.google.com)... 74.125.132.113, 74.125.132.138, 74.125.132.139, ...\n",
            "Connecting to drive.google.com (drive.google.com)|74.125.132.113|:443... connected.\n",
            "HTTP request sent, awaiting response... 303 See Other\n",
            "Location: https://drive.usercontent.google.com/download?id=1sv3d8jROfVmMvzKmDHTSPy5PVjjyhzRa&export=download [following]\n",
            "--2025-02-26 18:42:25--  https://drive.usercontent.google.com/download?id=1sv3d8jROfVmMvzKmDHTSPy5PVjjyhzRa&export=download\n",
            "Resolving drive.usercontent.google.com (drive.usercontent.google.com)... 142.250.125.132, 2607:f8b0:4001:c2f::84\n",
            "Connecting to drive.usercontent.google.com (drive.usercontent.google.com)|142.250.125.132|:443... connected.\n",
            "HTTP request sent, awaiting response... 200 OK\n",
            "Length: 1748690 (1.7M) [application/octet-stream]\n",
            "Saving to: ‘train.csv’\n",
            "\n",
            "train.csv           100%[===================>]   1.67M  --.-KB/s    in 0.01s   \n",
            "\n",
            "2025-02-26 18:42:28 (161 MB/s) - ‘train.csv’ saved [1748690/1748690]\n",
            "\n",
            "FINISHED --2025-02-26 18:42:28--\n",
            "Total wall clock time: 2.9s\n",
            "Downloaded: 1 files, 1.7M in 0.01s (161 MB/s)\n",
            "WARNING: combining -O with -r or -p will mean that all downloaded content\n",
            "will be placed in the single file you specified.\n",
            "\n",
            "--2025-02-26 18:42:28--  https://drive.google.com/uc?export=download&id=19Ab0gw7ZdTJEKEffGFh3zp7opjNNOFYs\n",
            "Resolving drive.google.com (drive.google.com)... 74.125.132.113, 74.125.132.138, 74.125.132.139, ...\n",
            "Connecting to drive.google.com (drive.google.com)|74.125.132.113|:443... connected.\n",
            "HTTP request sent, awaiting response... 303 See Other\n",
            "Location: https://drive.usercontent.google.com/download?id=19Ab0gw7ZdTJEKEffGFh3zp7opjNNOFYs&export=download [following]\n",
            "--2025-02-26 18:42:28--  https://drive.usercontent.google.com/download?id=19Ab0gw7ZdTJEKEffGFh3zp7opjNNOFYs&export=download\n",
            "Resolving drive.usercontent.google.com (drive.usercontent.google.com)... 142.250.125.132, 2607:f8b0:4001:c2f::84\n",
            "Connecting to drive.usercontent.google.com (drive.usercontent.google.com)|142.250.125.132|:443... connected.\n",
            "HTTP request sent, awaiting response... 200 OK\n",
            "Length: 752430 (735K) [application/octet-stream]\n",
            "Saving to: ‘test.csv’\n",
            "\n",
            "test.csv            100%[===================>] 734.79K  --.-KB/s    in 0.007s  \n",
            "\n",
            "2025-02-26 18:42:31 (106 MB/s) - ‘test.csv’ saved [752430/752430]\n",
            "\n",
            "FINISHED --2025-02-26 18:42:31--\n",
            "Total wall clock time: 2.6s\n",
            "Downloaded: 1 files, 735K in 0.007s (106 MB/s)\n"
          ]
        }
      ]
    },
    {
      "cell_type": "code",
      "source": [
        "import pandas as pd\n",
        "import numpy as np\n",
        "from sklearn.feature_extraction.text import TfidfVectorizer\n",
        "from sklearn.linear_model import LogisticRegression\n",
        "from sklearn.model_selection import train_test_split\n",
        "from sklearn.metrics import f1_score\n",
        "\n",
        "\n",
        "train_df = pd.read_csv(\"train.csv\")\n",
        "test_df = pd.read_csv(\"test.csv\")\n",
        "\n",
        "train_df.head()\n",
        "\n",
        "tfidf = TfidfVectorizer()\n",
        "\n",
        "premise_train = tfidf.fit_transform(train_df['premise'])\n",
        "hypothesis_train = tfidf.transform(train_df['hypothesis'])\n",
        "\n",
        "premise_test = tfidf.fit_transform(test_df['premise'])\n",
        "hypothesis_test = tfidf.transform(test_df['hypothesis'])\n",
        "\n",
        "x_train = np.hstack((premise_train.toarray(), hypothesis_train.toarray()))\n",
        "x_test = np.hstack((premise_test.toarray(), hypothesis_test.toarray()))\n",
        "\n",
        "y_train = train_df['label']\n",
        "y_test = test_df['label']\n",
        "\n",
        "x_train_split, x_val_split, y_train_split, y_val_split = train_test_split(x_train, y_train, test_size=0.2, random_state=42)\n",
        "\n",
        "model = LogisticRegression()\n",
        "model.fit(x_train_split, y_train_split)\n",
        "\n",
        "y_pred_train = model.predict(x_val_split)\n",
        "\n",
        "f = f1_score(y_val_split, y_pred_train)\n",
        "\n",
        "y_pred_test = model.predict(x_test)\n",
        "\n",
        "submission = pd.DataFrame({'id': test_data['id'], 'label': y_pred_test})\n",
        "submission.to_csv('submission.csv', index=False)\n"
      ],
      "metadata": {
        "colab": {
          "base_uri": "https://localhost:8080/",
          "height": 356
        },
        "id": "aatMs-PvhZcC",
        "outputId": "b696932b-5c82-4535-8538-bcaaa6046afd"
      },
      "execution_count": 2,
      "outputs": [
        {
          "output_type": "error",
          "ename": "FileNotFoundError",
          "evalue": "[Errno 2] No such file or directory: 'train.csv'",
          "traceback": [
            "\u001b[0;31m---------------------------------------------------------------------------\u001b[0m",
            "\u001b[0;31mFileNotFoundError\u001b[0m                         Traceback (most recent call last)",
            "\u001b[0;32m<ipython-input-2-8b79bb50bd4b>\u001b[0m in \u001b[0;36m<cell line: 0>\u001b[0;34m()\u001b[0m\n\u001b[1;32m      7\u001b[0m \u001b[0;34m\u001b[0m\u001b[0m\n\u001b[1;32m      8\u001b[0m \u001b[0;34m\u001b[0m\u001b[0m\n\u001b[0;32m----> 9\u001b[0;31m \u001b[0mtrain_df\u001b[0m \u001b[0;34m=\u001b[0m \u001b[0mpd\u001b[0m\u001b[0;34m.\u001b[0m\u001b[0mread_csv\u001b[0m\u001b[0;34m(\u001b[0m\u001b[0;34m\"train.csv\"\u001b[0m\u001b[0;34m)\u001b[0m\u001b[0;34m\u001b[0m\u001b[0;34m\u001b[0m\u001b[0m\n\u001b[0m\u001b[1;32m     10\u001b[0m \u001b[0mtest_df\u001b[0m \u001b[0;34m=\u001b[0m \u001b[0mpd\u001b[0m\u001b[0;34m.\u001b[0m\u001b[0mread_csv\u001b[0m\u001b[0;34m(\u001b[0m\u001b[0;34m\"test.csv\"\u001b[0m\u001b[0;34m)\u001b[0m\u001b[0;34m\u001b[0m\u001b[0;34m\u001b[0m\u001b[0m\n\u001b[1;32m     11\u001b[0m \u001b[0;34m\u001b[0m\u001b[0m\n",
            "\u001b[0;32m/usr/local/lib/python3.11/dist-packages/pandas/io/parsers/readers.py\u001b[0m in \u001b[0;36mread_csv\u001b[0;34m(filepath_or_buffer, sep, delimiter, header, names, index_col, usecols, dtype, engine, converters, true_values, false_values, skipinitialspace, skiprows, skipfooter, nrows, na_values, keep_default_na, na_filter, verbose, skip_blank_lines, parse_dates, infer_datetime_format, keep_date_col, date_parser, date_format, dayfirst, cache_dates, iterator, chunksize, compression, thousands, decimal, lineterminator, quotechar, quoting, doublequote, escapechar, comment, encoding, encoding_errors, dialect, on_bad_lines, delim_whitespace, low_memory, memory_map, float_precision, storage_options, dtype_backend)\u001b[0m\n\u001b[1;32m   1024\u001b[0m     \u001b[0mkwds\u001b[0m\u001b[0;34m.\u001b[0m\u001b[0mupdate\u001b[0m\u001b[0;34m(\u001b[0m\u001b[0mkwds_defaults\u001b[0m\u001b[0;34m)\u001b[0m\u001b[0;34m\u001b[0m\u001b[0;34m\u001b[0m\u001b[0m\n\u001b[1;32m   1025\u001b[0m \u001b[0;34m\u001b[0m\u001b[0m\n\u001b[0;32m-> 1026\u001b[0;31m     \u001b[0;32mreturn\u001b[0m \u001b[0m_read\u001b[0m\u001b[0;34m(\u001b[0m\u001b[0mfilepath_or_buffer\u001b[0m\u001b[0;34m,\u001b[0m \u001b[0mkwds\u001b[0m\u001b[0;34m)\u001b[0m\u001b[0;34m\u001b[0m\u001b[0;34m\u001b[0m\u001b[0m\n\u001b[0m\u001b[1;32m   1027\u001b[0m \u001b[0;34m\u001b[0m\u001b[0m\n\u001b[1;32m   1028\u001b[0m \u001b[0;34m\u001b[0m\u001b[0m\n",
            "\u001b[0;32m/usr/local/lib/python3.11/dist-packages/pandas/io/parsers/readers.py\u001b[0m in \u001b[0;36m_read\u001b[0;34m(filepath_or_buffer, kwds)\u001b[0m\n\u001b[1;32m    618\u001b[0m \u001b[0;34m\u001b[0m\u001b[0m\n\u001b[1;32m    619\u001b[0m     \u001b[0;31m# Create the parser.\u001b[0m\u001b[0;34m\u001b[0m\u001b[0;34m\u001b[0m\u001b[0m\n\u001b[0;32m--> 620\u001b[0;31m     \u001b[0mparser\u001b[0m \u001b[0;34m=\u001b[0m \u001b[0mTextFileReader\u001b[0m\u001b[0;34m(\u001b[0m\u001b[0mfilepath_or_buffer\u001b[0m\u001b[0;34m,\u001b[0m \u001b[0;34m**\u001b[0m\u001b[0mkwds\u001b[0m\u001b[0;34m)\u001b[0m\u001b[0;34m\u001b[0m\u001b[0;34m\u001b[0m\u001b[0m\n\u001b[0m\u001b[1;32m    621\u001b[0m \u001b[0;34m\u001b[0m\u001b[0m\n\u001b[1;32m    622\u001b[0m     \u001b[0;32mif\u001b[0m \u001b[0mchunksize\u001b[0m \u001b[0;32mor\u001b[0m \u001b[0miterator\u001b[0m\u001b[0;34m:\u001b[0m\u001b[0;34m\u001b[0m\u001b[0;34m\u001b[0m\u001b[0m\n",
            "\u001b[0;32m/usr/local/lib/python3.11/dist-packages/pandas/io/parsers/readers.py\u001b[0m in \u001b[0;36m__init__\u001b[0;34m(self, f, engine, **kwds)\u001b[0m\n\u001b[1;32m   1618\u001b[0m \u001b[0;34m\u001b[0m\u001b[0m\n\u001b[1;32m   1619\u001b[0m         \u001b[0mself\u001b[0m\u001b[0;34m.\u001b[0m\u001b[0mhandles\u001b[0m\u001b[0;34m:\u001b[0m \u001b[0mIOHandles\u001b[0m \u001b[0;34m|\u001b[0m \u001b[0;32mNone\u001b[0m \u001b[0;34m=\u001b[0m \u001b[0;32mNone\u001b[0m\u001b[0;34m\u001b[0m\u001b[0;34m\u001b[0m\u001b[0m\n\u001b[0;32m-> 1620\u001b[0;31m         \u001b[0mself\u001b[0m\u001b[0;34m.\u001b[0m\u001b[0m_engine\u001b[0m \u001b[0;34m=\u001b[0m \u001b[0mself\u001b[0m\u001b[0;34m.\u001b[0m\u001b[0m_make_engine\u001b[0m\u001b[0;34m(\u001b[0m\u001b[0mf\u001b[0m\u001b[0;34m,\u001b[0m \u001b[0mself\u001b[0m\u001b[0;34m.\u001b[0m\u001b[0mengine\u001b[0m\u001b[0;34m)\u001b[0m\u001b[0;34m\u001b[0m\u001b[0;34m\u001b[0m\u001b[0m\n\u001b[0m\u001b[1;32m   1621\u001b[0m \u001b[0;34m\u001b[0m\u001b[0m\n\u001b[1;32m   1622\u001b[0m     \u001b[0;32mdef\u001b[0m \u001b[0mclose\u001b[0m\u001b[0;34m(\u001b[0m\u001b[0mself\u001b[0m\u001b[0;34m)\u001b[0m \u001b[0;34m->\u001b[0m \u001b[0;32mNone\u001b[0m\u001b[0;34m:\u001b[0m\u001b[0;34m\u001b[0m\u001b[0;34m\u001b[0m\u001b[0m\n",
            "\u001b[0;32m/usr/local/lib/python3.11/dist-packages/pandas/io/parsers/readers.py\u001b[0m in \u001b[0;36m_make_engine\u001b[0;34m(self, f, engine)\u001b[0m\n\u001b[1;32m   1878\u001b[0m                 \u001b[0;32mif\u001b[0m \u001b[0;34m\"b\"\u001b[0m \u001b[0;32mnot\u001b[0m \u001b[0;32min\u001b[0m \u001b[0mmode\u001b[0m\u001b[0;34m:\u001b[0m\u001b[0;34m\u001b[0m\u001b[0;34m\u001b[0m\u001b[0m\n\u001b[1;32m   1879\u001b[0m                     \u001b[0mmode\u001b[0m \u001b[0;34m+=\u001b[0m \u001b[0;34m\"b\"\u001b[0m\u001b[0;34m\u001b[0m\u001b[0;34m\u001b[0m\u001b[0m\n\u001b[0;32m-> 1880\u001b[0;31m             self.handles = get_handle(\n\u001b[0m\u001b[1;32m   1881\u001b[0m                 \u001b[0mf\u001b[0m\u001b[0;34m,\u001b[0m\u001b[0;34m\u001b[0m\u001b[0;34m\u001b[0m\u001b[0m\n\u001b[1;32m   1882\u001b[0m                 \u001b[0mmode\u001b[0m\u001b[0;34m,\u001b[0m\u001b[0;34m\u001b[0m\u001b[0;34m\u001b[0m\u001b[0m\n",
            "\u001b[0;32m/usr/local/lib/python3.11/dist-packages/pandas/io/common.py\u001b[0m in \u001b[0;36mget_handle\u001b[0;34m(path_or_buf, mode, encoding, compression, memory_map, is_text, errors, storage_options)\u001b[0m\n\u001b[1;32m    871\u001b[0m         \u001b[0;32mif\u001b[0m \u001b[0mioargs\u001b[0m\u001b[0;34m.\u001b[0m\u001b[0mencoding\u001b[0m \u001b[0;32mand\u001b[0m \u001b[0;34m\"b\"\u001b[0m \u001b[0;32mnot\u001b[0m \u001b[0;32min\u001b[0m \u001b[0mioargs\u001b[0m\u001b[0;34m.\u001b[0m\u001b[0mmode\u001b[0m\u001b[0;34m:\u001b[0m\u001b[0;34m\u001b[0m\u001b[0;34m\u001b[0m\u001b[0m\n\u001b[1;32m    872\u001b[0m             \u001b[0;31m# Encoding\u001b[0m\u001b[0;34m\u001b[0m\u001b[0;34m\u001b[0m\u001b[0m\n\u001b[0;32m--> 873\u001b[0;31m             handle = open(\n\u001b[0m\u001b[1;32m    874\u001b[0m                 \u001b[0mhandle\u001b[0m\u001b[0;34m,\u001b[0m\u001b[0;34m\u001b[0m\u001b[0;34m\u001b[0m\u001b[0m\n\u001b[1;32m    875\u001b[0m                 \u001b[0mioargs\u001b[0m\u001b[0;34m.\u001b[0m\u001b[0mmode\u001b[0m\u001b[0;34m,\u001b[0m\u001b[0;34m\u001b[0m\u001b[0;34m\u001b[0m\u001b[0m\n",
            "\u001b[0;31mFileNotFoundError\u001b[0m: [Errno 2] No such file or directory: 'train.csv'"
          ]
        }
      ]
    },
    {
      "cell_type": "code",
      "source": [],
      "metadata": {
        "id": "H3MJcUcFiV-R"
      },
      "execution_count": null,
      "outputs": []
    }
  ]
}