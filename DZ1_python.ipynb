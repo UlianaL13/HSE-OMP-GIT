{
  "nbformat": 4,
  "nbformat_minor": 0,
  "metadata": {
    "colab": {
      "provenance": []
    },
    "kernelspec": {
      "name": "python3",
      "display_name": "Python 3"
    },
    "language_info": {
      "name": "python"
    }
  },
  "cells": [
    {
      "cell_type": "markdown",
      "source": [
        "##### 1. Сгенерируйте случайный файл размера 100'000 символов (символ - строчная буква английского алфавита) в формате .txt , затем найдите в нем наибольшую по длине последовательность из одинаковых символов."
      ],
      "metadata": {
        "id": "97jhw9nhPc5Z"
      }
    },
    {
      "cell_type": "code",
      "execution_count": null,
      "metadata": {
        "id": "4Lj-GpBrM950"
      },
      "outputs": [],
      "source": [
        "from random import choice\n",
        "from string import ascii_lowercase\n",
        "new_file = open ('1.txt','w+')\n",
        "s =  ''.join([choice(ascii_lowercase) for _ in range (100000)])\n",
        "new_file.write(s)\n",
        "last = ''\n",
        "cnt=1\n",
        "ans=0\n",
        "for i in s:\n",
        "  if last==i:\n",
        "    cnt+=1\n",
        "  else:\n",
        "    ans=max(cnt,ans)\n",
        "    cnt=1\n",
        "    last=i\n",
        "print(max(ans,cnt))\n",
        "new_file.close()"
      ]
    },
    {
      "cell_type": "markdown",
      "source": [
        "##### 2. Для этого же файла посчитайте долю встречаемых последовательностей из тех же символов длины K. Пример: K=1, есть все символы от a до x, но нет y и z, тогда ответ 24/26."
      ],
      "metadata": {
        "id": "5UsJZjMaPgCR"
      }
    },
    {
      "cell_type": "code",
      "source": [
        "new_file = open ('1.txt','r')\n",
        "k=int(input())\n",
        "last = ''\n",
        "cnt=1\n",
        "ans=0\n",
        "d=set()\n",
        "for i in s:\n",
        "  if last==i:\n",
        "    cnt+=1\n",
        "    if cnt==k:\n",
        "      d.add(i)\n",
        "  else:\n",
        "    cnt=1\n",
        "    last=i\n",
        "print(len(d)/26)\n",
        "new_file.close()"
      ],
      "metadata": {
        "id": "vXYNvC-MNAyf"
      },
      "execution_count": null,
      "outputs": []
    },
    {
      "cell_type": "markdown",
      "source": [
        "3. Считайте с потока ввода N, затем массив из N чисел. Найдите все уникальные его перестановки и выведите их.\n",
        "\n",
        "Пример:\n",
        "\n",
        "3\n",
        "\n",
        "1 1 2\n",
        "\n",
        "->  (1,1,2), (1,2,1), (2,1,1)"
      ],
      "metadata": {
        "id": "BSLqPJ7APigt"
      }
    },
    {
      "cell_type": "code",
      "source": [
        "from itertools import permutations\n",
        "n = int(input())\n",
        "a=list(map(int,input().split()))\n",
        "l = list(set((permutations(a))))\n",
        "for i in range(len(l)):\n",
        "    if (i==len(l)-1):\n",
        "        print(l[i])\n",
        "    else:\n",
        "        print(l[i],end=', ')"
      ],
      "metadata": {
        "id": "kgRHBz3iNAv4"
      },
      "execution_count": null,
      "outputs": []
    },
    {
      "cell_type": "markdown",
      "source": [
        "4. Придумайте функцию хеширования для структуры List, если в нем могут быть только числа, строки и другие List'ы."
      ],
      "metadata": {
        "id": "kpzOIeODPkQJ"
      }
    },
    {
      "cell_type": "code",
      "source": [
        "# TODO"
      ],
      "metadata": {
        "id": "WWeIte7MNAta"
      },
      "execution_count": null,
      "outputs": []
    },
    {
      "cell_type": "markdown",
      "source": [
        "5. Считайте с потока ввода N, затем N лямбда функций в формате строк. Затем считайте 1 строку некоторого выражения из данных лямбда функций в формате f{i} (то есть первая лямбда функция имеет название f1, вторая f2 и тд) и посчитайте его значение.\n",
        "\n",
        "Пример:\n",
        "\n",
        "3\n",
        "\n",
        "lambda x: x^2\n",
        "\n",
        "lambda x, y: x - y^2\n",
        "\n",
        "lambda q : q - 5\n",
        "\n",
        "f1(f2(f1(3), f3(6))) + f2(10, 2)\n"
      ],
      "metadata": {
        "id": "fSB1dHlCPnuE"
      }
    },
    {
      "cell_type": "code",
      "source": [
        "n=int(input())\n",
        "f = dict()\n",
        "for i in range(1,n+1):\n",
        "  func = input().strip()\n",
        "  f[f'f{i}']=eval(func.replace('^','**'))\n",
        "s=input().strip()\n",
        "\n",
        "print(eval(s,{},f))"
      ],
      "metadata": {
        "id": "otioOOuzPobM",
        "outputId": "17f0abc9-493e-403d-e712-4932847b857d",
        "colab": {
          "base_uri": "https://localhost:8080/"
        }
      },
      "execution_count": 13,
      "outputs": [
        {
          "output_type": "stream",
          "name": "stdout",
          "text": [
            "3\n",
            "lambda x: x^2\n",
            "lambda x, y: x - y^2\n",
            "lambda q : q - 5\n",
            "f1(f2(f1(3), f3(6))) + f2(10, 2)\n",
            "70\n"
          ]
        }
      ]
    },
    {
      "cell_type": "markdown",
      "source": [
        "6. Аналогично задаче 6, но теперь вместо однострочных лямбда функций будет N многострочных функций, разделителем между которыми будет строка [SEP]. В конце также будет выражение в формате аналогично задаче 6."
      ],
      "metadata": {
        "id": "pSVVwPlXPqEG"
      }
    },
    {
      "cell_type": "code",
      "source": [
        "# TODO"
      ],
      "metadata": {
        "id": "fXBFjeUYPqU3"
      },
      "execution_count": null,
      "outputs": []
    }
  ]
}